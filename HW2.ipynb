{
 "cells": [
  {
   "cell_type": "code",
   "execution_count": 30,
   "metadata": {},
   "outputs": [],
   "source": [
    "# Imports.\n",
    "import numpy as np\n",
    "import matplotlib.pyplot as plt"
   ]
  },
  {
   "cell_type": "code",
   "execution_count": 31,
   "metadata": {},
   "outputs": [],
   "source": [
    "class Interval:\n",
    "    \n",
    "    def __init__(self, lb, ub=None, vis=False):\n",
    "        \"\"\"\n",
    "        Initialize method for interval class, sets left bound and and right bound of interval.\n",
    "        :param lb: Lower bound of interval\n",
    "        :(optional) param ub: Upper bound of interval (if no upperbound, then it is the same as the lower bound).\n",
    "        :(optional) param vis: If true -> Prints out the interval after initialization, else no print out.\n",
    "        \"\"\"\n",
    "        self.vis = vis\n",
    "        \n",
    "        self.lb = lb\n",
    "        if ub:\n",
    "            self.ub = ub\n",
    "        else:\n",
    "            self.ub = self.lb\n",
    "        \n",
    "        if self.vis:\n",
    "            self.print()\n",
    "    \n",
    "    def __add__(self, other):\n",
    "        \"\"\"\n",
    "        Adds an interval, float or int to the current interval and returns the new interval.\n",
    "        \n",
    "        How add works: \n",
    "        Add intervals -> [a, b] + [c, d] = [a+c, b+d]\n",
    "        Add with float/int -> [a, b] + i = [a+i, b+i]\n",
    "        \n",
    "        :param other: Interval, float or int to be added to the interval.\n",
    "        \"\"\"\n",
    "        if isinstance(other, Interval):\n",
    "            lb = self.lb + other.lb\n",
    "            ub = self.ub + other.ub\n",
    "        else:\n",
    "            lb = self.lb + other\n",
    "            ub = self.ub + other\n",
    "\n",
    "        return Interval(lb, ub, vis=self.vis)\n",
    "    \n",
    "    def __radd__(self, other):\n",
    "        \"\"\"\n",
    "        Reverse addition for addition between an interval and a float/int.\n",
    "        \n",
    "        How reverse add works: \n",
    "        i + [a, b] --(radd)--> [a, b] + i = [a+i, b+i]\n",
    "        \n",
    "        :param other: Interval, float or int to be added to the interval.\n",
    "        \"\"\"\n",
    "        lb = self.lb + other\n",
    "        ub = self.ub + other\n",
    "\n",
    "        return Interval(lb, ub, vis=self.vis)\n",
    "        \n",
    "    \n",
    "    def __sub__(self, other):\n",
    "        \"\"\"\n",
    "        Subtracts an interval, float or int from the current interval and returns the new interval.\n",
    "        \n",
    "        How sub works: \n",
    "        Sub intervals -> [a, b] - [c, d] = [a-d, b-c]\n",
    "        Sub with float/int -> [a, b] - i = [a-i, b-i]\n",
    "        \n",
    "        :param other: Interval, float or int to be subtracted from the interval.\n",
    "        \"\"\"\n",
    "        if isinstance(other, Interval):\n",
    "            lb = self.lb - other.ub\n",
    "            ub = self.ub - other.lb\n",
    "        else:\n",
    "            lb = self.lb - other\n",
    "            ub = self.ub - other\n",
    "\n",
    "        return Interval(lb, ub, vis=self.vis)\n",
    "    \n",
    "    def __rsub__(self, other):\n",
    "        \"\"\"\n",
    "        Reverse subtraction for subtraction between an interval and a float/int.\n",
    "        \n",
    "        How reverse add works: \n",
    "        i - [a, b] --(rsub)--> [i-b, i-a]\n",
    "        \n",
    "        :param other: Interval, float or int to be added to the interval.\n",
    "        \"\"\"\n",
    "        lb = other - self.ub\n",
    "        ub = other - self.lb\n",
    "        return Interval(lb, ub, vis=self.vis)\n",
    "    \n",
    "    def __mul__(self, other):\n",
    "        \"\"\"\n",
    "        Multiplies an interval, float or int to the current interval and returns the new interval.\n",
    "        \n",
    "        How mul works: \n",
    "        Mul intervals -> [a, b] * [c, d] = [min(ac, ad, bc, bd), max(ac, ad, bc, bd)]\n",
    "        Mul with float/int -> [a, b] * i = [min(a*i, b*i), max(a*i, b*i)]\n",
    "        \n",
    "        :param other: Interval, float or int to be multiplied to the interval.\n",
    "        \"\"\"\n",
    "        if isinstance(other, Interval):\n",
    "            lb = min(self.lb*other.lb, self.lb*other.ub, self.ub*other.lb, self.ub*other.ub)\n",
    "            ub = max(self.lb*other.lb, self.lb*other.ub, self.ub*other.lb, self.ub*other.ub)\n",
    "        else:\n",
    "            lb = min(self.lb * other, self.ub * other) \n",
    "            ub = max(self.lb * other, self.ub * other)\n",
    "\n",
    "        return Interval(lb, ub, vis=self.vis)\n",
    "    \n",
    "    def __rmul__(self, other):\n",
    "        \"\"\"\n",
    "        Reverse multiplication for multiplying between an interval and a float/int.\n",
    "        \n",
    "        How reverse add works: \n",
    "        i * [a, b] --(rmul)--> [min(a*i, b*i), max(a*i, b*i)]\n",
    "        \n",
    "        :param other: Interval, float or int to be added to the interval.\n",
    "        \"\"\"\n",
    "        lb = min(self.lb * other, self.ub * other) \n",
    "        ub = max(self.lb * other, self.ub * other)\n",
    "        return Interval(lb, ub, vis=self.vis)\n",
    "             \n",
    "    def __truediv__(self, other):\n",
    "        \"\"\"\n",
    "        Divides an interval by an interval and returns the new interval.\n",
    "        \n",
    "        How truediv works: \n",
    "        Truediv intervals -> [a, b] / [c, d] = [min(a/c, a/d, b/c, b/d), max(a/c, a/d, b/c, b/d)]\n",
    "        if c or d is zero then error is raised.\n",
    "        \n",
    "        :param other: Interval divisor to the current interval.\n",
    "        \"\"\"\n",
    "        if 0 in other: \n",
    "            raise ZeroDivisionError\n",
    "        else:\n",
    "            lb = min(self.lb/other.lb, self.lb/other.ub, self.ub/other.lb, self.ub/other.ub)\n",
    "            ub = max(self.lb/other.lb, self.lb/other.ub, self.ub/other.lb, self.ub/other.ub)\n",
    "            return Interval(lb, ub, vis=self.vis)\n",
    "            \n",
    "          \n",
    "    def __pow__(self, n):\n",
    "        \"\"\"\n",
    "        Raises an interval to some integer power and returns the new interval.\n",
    "        \n",
    "        How pow works:\n",
    "        DISCLAIMER must be integer values.\n",
    "        \n",
    "        For odd n >= 1 -> [a, b]^n = [a^n, b^n]\n",
    "        \n",
    "        For even n > 0 -> [a, b]^n = [a^n, b^n] for a >= 0\n",
    "                                     [b^n, a^n] for b < 0\n",
    "                                     [0, max(a^n, b^n)] else.\n",
    "        \n",
    "        :param n: Exponent for exponantiation.\n",
    "        \"\"\"\n",
    "        if not isinstance(n, int):\n",
    "            print('Only handles integer values')\n",
    "            return None\n",
    "\n",
    "        if n < 1:\n",
    "            print('Cannot handle values smaller than 1')\n",
    "            return None\n",
    "        \n",
    "        # Is even\n",
    "        if n % 2 == 0:\n",
    "            # Three cases\n",
    "            if self.lb >= 0:\n",
    "                lb, ub = self.lb ** n, self.ub ** n\n",
    "            elif self.ub < 0:\n",
    "                lb, ub = self.ub ** n, self.lb ** n\n",
    "            else:\n",
    "                lb, ub = 0, max(self.lb ** n, self.ub ** n)\n",
    "        \n",
    "        # Is odd\n",
    "        else:\n",
    "            lb, ub = self.lb ** n, self.ub ** n\n",
    "\n",
    "        return Interval(lb, ub, vis=self.vis) \n",
    "            \n",
    "    def __contains__(self, x):\n",
    "        \"\"\"\n",
    "        Checks if value x is in the interval.\n",
    "        :param x: Value to be checked if in interval.\n",
    "        \"\"\"\n",
    "        return self.lb <= x <= self.ub    \n",
    "        \n",
    "    def __repr__(self):\n",
    "        \"\"\"\n",
    "        String representation of an interval.\n",
    "        \"\"\"\n",
    "        return f'[{self.lb}, {self.ub}]'\n",
    "    \n",
    "    def print(self):\n",
    "        \"\"\"\n",
    "        Prints out the interval.\n",
    "        \"\"\"\n",
    "        print(repr(self))"
   ]
  },
  {
   "cell_type": "code",
   "execution_count": 32,
   "metadata": {},
   "outputs": [
    {
     "name": "stdout",
     "output_type": "stream",
     "text": [
      "[1, 4]\n",
      "[-2, -1]\n",
      "[-1, 3]\n",
      "[2, 6]\n",
      "[-8, -1]\n",
      "[-4.0, -0.5]\n"
     ]
    },
    {
     "data": {
      "text/plain": [
       "[-4.0, -0.5]"
      ]
     },
     "execution_count": 32,
     "metadata": {},
     "output_type": "execute_result"
    }
   ],
   "source": [
    "# Test operations between intervals.\n",
    "I1 = Interval(1, 4, vis=True)    # [1, 4]\n",
    "I2 = Interval(-2, -1, vis=True)  # [-2, -1]\n",
    "I1+I2                            # [-1, 3]\n",
    "I1-I2                            # [2, 6]\n",
    "I1*I2                            # [-8, -1]\n",
    "I1/I2                            # [-4.,-0.5]"
   ]
  },
  {
   "cell_type": "code",
   "execution_count": 33,
   "metadata": {},
   "outputs": [
    {
     "name": "stdout",
     "output_type": "stream",
     "text": [
      "[2, 3]\n",
      "[3, 4]\n",
      "[3, 4]\n",
      "[3.0, 4.0]\n",
      "[3.0, 4.0]\n",
      "[-2, -1]\n",
      "[1, 2]\n",
      "[-2.0, -1.0]\n",
      "[1.0, 2.0]\n",
      "[2, 3]\n",
      "[2, 3]\n",
      "[2.0, 3.0]\n",
      "[2.0, 3.0]\n"
     ]
    },
    {
     "data": {
      "text/plain": [
       "[2.0, 3.0]"
      ]
     },
     "execution_count": 33,
     "metadata": {},
     "output_type": "execute_result"
    }
   ],
   "source": [
    "# Test operations between interval and int/float.\n",
    "I = Interval(2,3, vis=True) # [2, 3]\n",
    "I + 1 # [3, 4]\n",
    "1 + I # [3, 4] \n",
    "1.0 + I # [3.0, 4.0] \n",
    "I + 1.0 # [3.0, 4.0] \n",
    "1 - I # [-2, -1] \n",
    "I -1 # [1, 2] \n",
    "1.0 - I # [-2.0, -1.0]\n",
    "I - 1.0 # [1.0, 2.0] \n",
    "I * 1 # [2, 3] \n",
    "1 * I # [2, 3] \n",
    "1.0 * I # [2.0, 3.0] \n",
    "I * 1.0 # [2.0, 3.0]"
   ]
  },
  {
   "cell_type": "code",
   "execution_count": 34,
   "metadata": {},
   "outputs": [
    {
     "name": "stdout",
     "output_type": "stream",
     "text": [
      "[-2, 2]\n",
      "[0, 4]\n",
      "[-8, 8]\n"
     ]
    },
    {
     "data": {
      "text/plain": [
       "[-8, 8]"
      ]
     },
     "execution_count": 34,
     "metadata": {},
     "output_type": "execute_result"
    }
   ],
   "source": [
    "# Test interval power.\n",
    "x = Interval(-2,2, vis=True) # [-2, 2] \n",
    "x ** 2 # [0, 4]\n",
    "x ** 3 # [-8, 8] "
   ]
  },
  {
   "cell_type": "code",
   "execution_count": 35,
   "metadata": {},
   "outputs": [],
   "source": [
    "# Construct list of intervals.\n",
    "xl, xu = np.linspace(0., 1, 1000), np.linspace(0., 1, 1000) + 0.5\n",
    "intervals = [Interval(xli, xui) for xli, xui in zip(xl, xu)]\n",
    "\n",
    "p = lambda I: 3*(I**3) - 2 * (I**2) - 5*I - 1\n",
    "\n",
    "# Evaluate interval function p over all prescribed intervals.\n",
    "yl, yu = [], []\n",
    "for interval in intervals:\n",
    "    _p = p(interval)\n",
    "    yl.append(_p.lb)\n",
    "    yu.append(_p.ub)\n",
    "    "
   ]
  },
  {
   "cell_type": "code",
   "execution_count": 36,
   "metadata": {},
   "outputs": [
    {
     "data": {
      "image/png": "[encoded data removed]",
      "text/plain": [
       "<Figure size 432x288 with 1 Axes>"
      ]
     },
     "metadata": {
      "needs_background": "light"
     },
     "output_type": "display_data"
    }
   ],
   "source": [
    "# Plot bounds of intervals\n",
    "plt.plot(xl, yl)\n",
    "plt.plot(xl, yu)\n",
    "plt.legend(['Lower', 'Upper'])\n",
    "plt.title('Evaluation of interval polynomial')\n",
    "plt.ylabel('p(I)')\n",
    "plt.xlabel('$x_\\ell$')\n",
    "plt.show()"
   ]
  }
 ],
 "metadata": {
  "kernelspec": {
   "display_name": "Python 3",
   "language": "python",
   "name": "python3"
  },
  "language_info": {
   "codemirror_mode": {
    "name": "ipython",
    "version": 3
   },
   "file_extension": ".py",
   "mimetype": "text/x-python",
   "name": "python",
   "nbconvert_exporter": "python",
   "pygments_lexer": "ipython3",
   "version": "3.6.9"
  }
 },
 "nbformat": 4,
 "nbformat_minor": 4
}
